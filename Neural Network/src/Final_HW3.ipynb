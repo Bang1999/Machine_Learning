{
 "cells": [
  {
   "cell_type": "markdown",
   "id": "d6bc2723",
   "metadata": {},
   "source": [
    "# HW3"
   ]
  },
  {
   "cell_type": "markdown",
   "id": "9f1b43e8",
   "metadata": {},
   "source": [
    "## Neural Network\n",
    "    Student Number : 32181995\n",
    "    Name : 방동호"
   ]
  },
  {
   "cell_type": "markdown",
   "id": "b92dbfae",
   "metadata": {},
   "source": [
    "### 라이브러리 호출"
   ]
  },
  {
   "cell_type": "code",
   "execution_count": 45,
   "id": "e41b0be6",
   "metadata": {},
   "outputs": [],
   "source": [
    "import csv\n",
    "import pylab as plt\n",
    "import numpy as np"
   ]
  },
  {
   "cell_type": "markdown",
   "id": "5218d200",
   "metadata": {},
   "source": [
    "### Data 불러오기"
   ]
  },
  {
   "cell_type": "code",
   "execution_count": 46,
   "id": "c524448c",
   "metadata": {},
   "outputs": [],
   "source": [
    "x = []\n",
    "x_list = []\n",
    "y = []\n",
    "y_list = []\n",
    "\n",
    "f = open('hw3_data.csv', 'r', encoding='utf-8')\n",
    "rdr = csv.reader(f)\n",
    "\n",
    "i = 0\n",
    "for line in rdr:\n",
    "    x.append([float(line[0])])\n",
    "    x_list.append(float(line[0]))\n",
    "    y.append([float(line[1])])\n",
    "    y_list.append(float(line[1]))\n",
    "    i += 1\n",
    "f.close()\n",
    "\n",
    "x = np.array(x).T\n",
    "y = np.array(y).T"
   ]
  },
  {
   "cell_type": "markdown",
   "id": "4fced24a",
   "metadata": {},
   "source": [
    "### Data 분포 확인"
   ]
  },
  {
   "cell_type": "code",
   "execution_count": 47,
   "id": "b093d873",
   "metadata": {},
   "outputs": [
    {
     "name": "stdout",
     "output_type": "stream",
     "text": [
      "Number of x data:  5000 Number of y data:  5000\n",
      "max(x): 49.9839286 min(x): -49.99516554\n",
      "max(y): -4.785407023 min(y): -8.507007096\n"
     ]
    }
   ],
   "source": [
    "print(\"Number of x data: \", len(x_list), \"Number of y data: \", len(y_list))\n",
    "print(\"max(x):\", max(x_list), \"min(x):\", min(x_list))\n",
    "print(\"max(y):\", max(y_list), \"min(y):\", min(y_list))"
   ]
  },
  {
   "cell_type": "markdown",
   "id": "c399a227",
   "metadata": {},
   "source": [
    "    그래프 확인"
   ]
  },
  {
   "cell_type": "code",
   "execution_count": 48,
   "id": "1116b26e",
   "metadata": {},
   "outputs": [
    {
     "data": {
      "image/png": "[encoded data removed]",
      "text/plain": [
       "<Figure size 432x288 with 1 Axes>"
      ]
     },
     "metadata": {
      "needs_background": "light"
     },
     "output_type": "display_data"
    }
   ],
   "source": [
    "# 그래프 그리기\n",
    "plt.plot(x,y,'x')\n",
    "plt.xlim([-50,50]); plt.ylim([-9,1])\n",
    "plt.axvline(x=0, c='g'); plt.axhline(y=0, c='g')\n",
    "plt.show()"
   ]
  },
  {
   "cell_type": "markdown",
   "id": "884ea1b4",
   "metadata": {},
   "source": [
    "### Multi-Layer Perceptron Training"
   ]
  },
  {
   "cell_type": "code",
   "execution_count": 51,
   "id": "36aa7ee2",
   "metadata": {},
   "outputs": [
    {
     "name": "stderr",
     "output_type": "stream",
     "text": [
      "/var/folders/ss/nht4j77n2w126s17mwpbcpxm0000gn/T/ipykernel_18725/1675406502.py:3: RuntimeWarning: overflow encountered in exp\n",
      "  return 1/(1+ np.exp(-x))\n"
     ]
    },
    {
     "name": "stdout",
     "output_type": "stream",
     "text": [
      "최종 Hidden weight : \n",
      " [[0.06165739 0.26770361 0.08686564 ... 0.88710334 0.58231191 0.44341846]\n",
      " [0.99375456 0.17960656 0.43743646 ... 0.41574805 0.96917024 0.3794092 ]\n",
      " [0.14334973 0.1176099  0.03426269 ... 0.2150695  0.39161545 0.91975341]\n",
      " ...\n",
      " [0.79285235 0.64466827 0.5455411  ... 0.94121563 0.71782666 0.9906738 ]\n",
      " [0.75691732 0.15962741 0.58344447 ... 0.09525246 0.69005783 0.00812672]\n",
      " [0.73297739 0.76278213 0.20827114 ... 0.27365102 0.0761395  0.18718326]]\n",
      "최종 Output Weight : \n",
      "\n",
      " [[0.46455862 0.8551234  0.78025272 ... 0.1518097  0.85228216 0.669021  ]\n",
      " [0.39353199 0.44783996 0.25308837 ... 0.40531636 0.18149946 0.0912476 ]\n",
      " [0.894267   0.186512   0.13538294 ... 0.09356372 0.49350896 0.10382368]\n",
      " ...\n",
      " [0.81281294 0.2068569  0.69201154 ... 0.53911242 0.34038733 0.8484791 ]\n",
      " [0.93565598 0.61273229 0.44223388 ... 0.98291079 0.85976625 0.63473517]\n",
      " [0.70017247 0.21643951 0.75172728 ... 0.68704447 0.4976517  0.28682977]]\n",
      "Ouput : \n",
      " [[-7.42126933]\n",
      " [-7.43564206]\n",
      " [-5.67391193]\n",
      " ...\n",
      " [-7.08351715]\n",
      " [-8.4314606 ]\n",
      " [-4.93850809]]\n"
     ]
    }
   ],
   "source": [
    "# 활성 함수\n",
    "def sigmoid(x):\n",
    "    return 1/(1+ np.exp(-x))\n",
    "\n",
    "def de_sigmoid(x):\n",
    "    return sigmoid(x) * (1 - sigmoid(x))\n",
    "\n",
    "def identity(x):\n",
    "    return x\n",
    "\n",
    "def de_identity(x):\n",
    "    return 1\n",
    "\n",
    "# Input 노드와 Output 노드의 수\n",
    "inputNode = 5000\n",
    "outputNode = 5000\n",
    "\n",
    "# Hidden 노드의 수\n",
    "hiddenNode = 100\n",
    "\n",
    "# Hidden Weight\n",
    "hiddenWeight = np.random.rand(inputNode, hiddenNode)\n",
    "\n",
    "# Output weight\n",
    "outputWeight = np.random.rand(hiddenNode, outputNode)\n",
    "\n",
    "# Learning rate\n",
    "alpha = 0.1\n",
    "\n",
    "# Training\n",
    "for i in range(10000):\n",
    "    hidden_z = np.dot(x, hiddenWeight)\n",
    "    hidden_a = sigmoid(hidden_z)\n",
    "    \n",
    "    output_z = np.dot(hidden_a, outputWeight)\n",
    "    output_a = identity(output_z)\n",
    "    \n",
    "    # Backpropagation\n",
    "    outputDelta = (y - output_a) * de_identity(output_z)\n",
    "    hiddenDelta = outputDelta.dot(outputWeight.T) * de_sigmoid(hidden_z)\n",
    "    \n",
    "    # Update Weight\n",
    "    outputWeight += alpha * hidden_a.T.dot(outputDelta)\n",
    "    hiddenWeight += alpha * x.T.dot(hiddenDelta)\n",
    "    \n",
    "print(\"최종 Hidden weight : \\n\", hiddenWeight)\n",
    "print(\"최종 Output Weight : \\n\\n\", outputWeight)\n",
    "\n",
    "print(\"Ouput : \\n\", output_a.T)"
   ]
  },
  {
   "cell_type": "markdown",
   "id": "b0f86c7e",
   "metadata": {},
   "source": [
    "### 최종 그래프 확인"
   ]
  },
  {
   "cell_type": "code",
   "execution_count": 37,
   "id": "63837e46",
   "metadata": {},
   "outputs": [
    {
     "data": {
      "image/png": "[encoded data removed]",
      "text/plain": [
       "<Figure size 432x288 with 1 Axes>"
      ]
     },
     "metadata": {
      "needs_background": "light"
     },
     "output_type": "display_data"
    }
   ],
   "source": [
    "# 그래프 그리기\n",
    "plt.plot(x,y,'x')\n",
    "plt.xlim([-50,50]); plt.ylim([-9,1])\n",
    "plt.axvline(x=0, c='g'); plt.axhline(y=0, c='g')\n",
    "plt.show()"
   ]
  },
  {
   "cell_type": "markdown",
   "id": "321c1d60",
   "metadata": {},
   "source": [
    "## Evaluation Result"
   ]
  },
  {
   "cell_type": "markdown",
   "id": "2736b5cc",
   "metadata": {},
   "source": [
    "### Training/Validation error"
   ]
  },
  {
   "cell_type": "code",
   "execution_count": 70,
   "id": "e5acd744",
   "metadata": {},
   "outputs": [
    {
     "name": "stdout",
     "output_type": "stream",
     "text": [
      "[[8.88178420e-16 0.00000000e+00 0.00000000e+00 ... 8.88178420e-16\n",
      "  1.77635684e-15 8.88178420e-16]]\n"
     ]
    }
   ],
   "source": [
    "error = y - output_a\n",
    "print(error)"
   ]
  }
 ],
 "metadata": {
  "kernelspec": {
   "display_name": "Python 3 (ipykernel)",
   "language": "python",
   "name": "python3"
  },
  "language_info": {
   "codemirror_mode": {
    "name": "ipython",
    "version": 3
   },
   "file_extension": ".py",
   "mimetype": "text/x-python",
   "name": "python",
   "nbconvert_exporter": "python",
   "pygments_lexer": "ipython3",
   "version": "3.9.12"
  },
  "toc": {
   "base_numbering": 1,
   "nav_menu": {},
   "number_sections": true,
   "sideBar": true,
   "skip_h1_title": false,
   "title_cell": "Table of Contents",
   "title_sidebar": "Contents",
   "toc_cell": false,
   "toc_position": {
    "height": "calc(100% - 180px)",
    "left": "10px",
    "top": "150px",
    "width": "362px"
   },
   "toc_section_display": true,
   "toc_window_display": false
  },
  "varInspector": {
   "cols": {
    "lenName": 16,
    "lenType": 16,
    "lenVar": 40
   },
   "kernels_config": {
    "python": {
     "delete_cmd_postfix": "",
     "delete_cmd_prefix": "del ",
     "library": "var_list.py",
     "varRefreshCmd": "print(var_dic_list())"
    },
    "r": {
     "delete_cmd_postfix": ") ",
     "delete_cmd_prefix": "rm(",
     "library": "var_list.r",
     "varRefreshCmd": "cat(var_dic_list()) "
    }
   },
   "types_to_exclude": [
    "module",
    "function",
    "builtin_function_or_method",
    "instance",
    "_Feature"
   ],
   "window_display": false
  }
 },
 "nbformat": 4,
 "nbformat_minor": 5
}
